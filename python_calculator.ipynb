{
  "nbformat": 4,
  "nbformat_minor": 0,
  "metadata": {
    "colab": {
      "provenance": [],
      "authorship_tag": "ABX9TyN9q+PLpOlNsQv+HkzaZNKt",
      "include_colab_link": true
    },
    "kernelspec": {
      "name": "python3",
      "display_name": "Python 3"
    },
    "language_info": {
      "name": "python"
    }
  },
  "cells": [
    {
      "cell_type": "markdown",
      "metadata": {
        "id": "view-in-github",
        "colab_type": "text"
      },
      "source": [
        "<a href=\"https://colab.research.google.com/github/sahilyousaf2/python-calculator/blob/main/python_calculator.ipynb\" target=\"_parent\"><img src=\"https://colab.research.google.com/assets/colab-badge.svg\" alt=\"Open In Colab\"/></a>"
      ]
    },
    {
      "cell_type": "markdown",
      "source": [
        "# **python-calculator**"
      ],
      "metadata": {
        "id": "Eu1aIl7y9suv"
      }
    },
    {
      "cell_type": "code",
      "source": [
        "# prompt: create a calculator use cli user input\n",
        "print(\"Welcome To - Cli Calculator\")\n",
        "\n",
        "while True:\n",
        "    try:\n",
        "        number1: int = int(input(\"Enter First Number :\"))\n",
        "        number2: int = int(input(\"Enter Second Number :\"))\n",
        "\n",
        "        oprations: int = int(input(\n",
        "            \"Enter \\n 1-Add \\n 2-Sub \\n 3-Mul \\n 4-Div \\n 5-Close App .. \"))\n",
        "\n",
        "        if oprations == 1:\n",
        "            print(f\"Addition Result : {number1 + number2}\")\n",
        "        elif oprations == 2:\n",
        "            print(f\"Subtraction Result : {number1 - number2}\")\n",
        "        elif oprations == 3:\n",
        "            print(f\"Multiplication Result : {number1 * number2}\")\n",
        "        elif oprations == 4:\n",
        "            if number2 == 0:\n",
        "                print(\"Error: Division by zero\")\n",
        "            else:\n",
        "                print(f\"Division Result : {number1 / number2}\")\n",
        "        elif oprations == 5:\n",
        "            break  # Exit the loop\n",
        "        else:\n",
        "            print(\"Invalid operation. Please enter a number between 1 and 5.\")\n",
        "\n",
        "    except ValueError:\n",
        "        print(\"Invalid input. Please enter valid numbers.\")\n"
      ],
      "metadata": {
        "id": "gVg8urIz9yVM"
      },
      "execution_count": null,
      "outputs": []
    }
  ]
}